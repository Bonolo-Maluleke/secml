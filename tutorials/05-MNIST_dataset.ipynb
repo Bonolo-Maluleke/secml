{
 "cells": [
  {
   "cell_type": "markdown",
   "metadata": {
    "collapsed": true,
    "pycharm": {
     "name": "#%% md\n"
    }
   },
   "source": [
    "# Evasion and Poisoning Attacks on MNIST dataset\n",
    "\n",
    "\n",
    "In this tutorial we show how to load the **MNIST handwritten digits dataset** \n",
    " and use it to train a Support Vector Machine (SVM) with Radial Basis Function \n",
    " (RBF) kernel.\n",
    "\n",
    "Later we are going to perform Evasion and Poisoning attacks against the trained\n",
    " classifier, as previosuly described in tutorials [2](02-Evasion.ipynb) and \n",
    " [4](04-Poisoning.ipynb)."
   ]
  },
  {
   "cell_type": "markdown",
   "metadata": {
    "pycharm": {
     "name": "#%% md\n"
    }
   },
   "source": [
    "## Training of the classifier\n",
    "\n",
    "First, we load the dataset and train the classifier. For this tutorial, \n",
    " we only consider 2 digits, the 5 (five) and the 9 (nine)."
   ]
  },
  {
   "cell_type": "code",
   "execution_count": 1,
   "metadata": {
    "pycharm": {
     "is_executing": false,
     "name": "#%%\n"
    }
   },
   "outputs": [
    {
     "name": "stdout",
     "output_type": "stream",
     "text": [
      "Estimating the best training parameters...\n",
      "The best training parameters are:  {'C': 1}\n",
      "Accuracy on test set: 96.80%\n"
     ]
    }
   ],
   "source": [
    "random_state = 999\n",
    "\n",
    "n_tr = 500  # Number of training set samples\n",
    "n_val = 200  # Number of validation set samples\n",
    "n_ts = 500  # Number of test set samples\n",
    "\n",
    "digits = (5, 9)\n",
    "\n",
    "from secml.data.loader import CDataLoaderMNIST\n",
    "loader = CDataLoaderMNIST()\n",
    "tr_val = loader.load('training', digits=digits, num_samples=n_tr + n_val)\n",
    "ts = loader.load('testing', digits=digits, num_samples=n_ts)\n",
    "\n",
    "# Split in training and validation set\n",
    "tr = tr_val[:n_tr, :]\n",
    "val = tr_val[n_tr:, :]\n",
    "\n",
    "# Normalize the features in `[0, 1]`\n",
    "tr.X /= 255\n",
    "val.X /= 255\n",
    "ts.X /= 255\n",
    "\n",
    "from secml.ml.classifiers import CClassifierSVM\n",
    "# Force storing of the dual space variables (alphas and support vectors)\n",
    "# Will be used by the poisoning attack later\n",
    "clf = CClassifierSVM(store_dual_vars=True)\n",
    "\n",
    "# Let's create a 3-Fold data splitter\n",
    "from secml.data.splitter import CDataSplitterKFold\n",
    "xval_splitter = CDataSplitterKFold(num_folds=3, random_state=random_state)\n",
    "\n",
    "# Metric to use for training and performance evaluation\n",
    "from secml.ml.peval.metrics import CMetricAccuracy\n",
    "metric = CMetricAccuracy()\n",
    "\n",
    "# Parameters for the Cross-Validation procedure\n",
    "xval_params = {'C': [0.1, 1, 10]}\n",
    "\n",
    "# Select and set the best training parameters for the classifier\n",
    "print(\"Estimating the best training parameters...\")\n",
    "best_params = clf.estimate_parameters(\n",
    "    dataset=tr, \n",
    "    parameters=xval_params, \n",
    "    splitter=xval_splitter, \n",
    "    metric=metric, \n",
    "    perf_evaluator='xval'\n",
    ")\n",
    "\n",
    "print(\"The best training parameters are: \", best_params)\n",
    "\n",
    "# We can now fit the classifier\n",
    "clf.fit(tr)\n",
    "\n",
    "# Compute predictions on a test set\n",
    "y_pred = clf.predict(ts.X)\n",
    "\n",
    "# Evaluate the accuracy of the classifier\n",
    "acc = metric.performance_score(y_true=ts.Y, y_pred=y_pred)\n",
    "\n",
    "print(\"Accuracy on test set: {:.2%}\".format(acc))"
   ]
  },
  {
   "cell_type": "markdown",
   "metadata": {
    "pycharm": {
     "name": "#%% md\n"
    }
   },
   "source": [
    "## Evasion attack with MNIST dataset\n",
    "\n",
    "Let's define the attack parameters. Firstly, we chose to generate an *l2*\n",
    " perturbation within a maximum ball of radius $\\varepsilon = 5$ from the\n",
    " initial points. Secondly, we also add a low/upper bound as our feature space \n",
    " is limited in `[0, 1]`. Lastly, as we are not interested in generating \n",
    " adversarial examples for a specific class, we perform an error-generic attack\n",
    " by setting `y_target = None`.\n",
    "\n",
    "*Please note that the attack using the MNIST dataset may take a while \n",
    " (up to a few minutes) depending on the machine the script is run on.*"
   ]
  },
  {
   "cell_type": "code",
   "execution_count": 2,
   "metadata": {
    "pycharm": {
     "is_executing": false,
     "name": "#%%\n"
    }
   },
   "outputs": [
    {
     "name": "stdout",
     "output_type": "stream",
     "text": [
      "Attack started...\n",
      "Attack complete!\n",
      "Accuracy on reduced test set before attack: 100.00%\n",
      "Accuracy on reduced test set after attack: 4.00%\n"
     ]
    }
   ],
   "source": [
    "# For simplicity, let's attack a subset of the test set\n",
    "attack_ds = ts[:25, :]\n",
    "\n",
    "noise_type = 'l2'  # Type of perturbation 'l1' or 'l2'\n",
    "dmax = 2.  # Maximum perturbation\n",
    "lb, ub = 0., 1.  # Bounds of the attack space. Can be set to `None` for unbounded\n",
    "y_target = None  # None if `error-generic` or a class label for `error-specific`\n",
    "\n",
    "# Should be chosen depending on the optimization problem\n",
    "solver_params = {\n",
    "    'eta': 0.5, \n",
    "    'eta_min': 1, \n",
    "    'eta_max': None,\n",
    "    'max_iter': 100, \n",
    "    'eps': 1e-6\n",
    "}\n",
    "\n",
    "from secml.adv.attacks import CAttackEvasionPGDLS\n",
    "pgd_ls_attack = CAttackEvasionPGDLS(classifier=clf,\n",
    "                                    surrogate_classifier=clf,\n",
    "                                    surrogate_data=tr,\n",
    "                                    distance=noise_type, \n",
    "                                    dmax=dmax,\n",
    "                                    solver_params=solver_params,\n",
    "                                    y_target=y_target)\n",
    "\n",
    "print(\"Attack started...\")\n",
    "eva_y_pred, _, eva_adv_ds, _ = pgd_ls_attack.run(\n",
    "    attack_ds.X, attack_ds.Y, double_init=True)\n",
    "print(\"Attack complete!\")\n",
    "\n",
    "acc = metric.performance_score(\n",
    "    y_true=attack_ds.Y, y_pred=clf.predict(attack_ds.X))\n",
    "acc_attack = metric.performance_score(\n",
    "    y_true=attack_ds.Y, y_pred=eva_y_pred)\n",
    "\n",
    "print(\"Accuracy on reduced test set before attack: {:.2%}\".format(acc))\n",
    "print(\"Accuracy on reduced test set after attack: {:.2%}\".format(acc_attack))"
   ]
  },
  {
   "cell_type": "markdown",
   "metadata": {},
   "source": [
    "We can observe how the classifier trained on the MNIST dataset has been \n",
    " *successfully evaded* by the adversarial examples generated by our attack.\n",
    " \n",
    "Let's now visualize few of the adversarial examples. The first row are the \n",
    " original samples and the second row are the adversarial examples. Above each\n",
    " digit it is shown the true label and the predicted label in parenthesis. "
   ]
  },
  {
   "cell_type": "code",
   "execution_count": 4,
   "metadata": {
    "pycharm": {
     "is_executing": false,
     "name": "#%%\n"
    }
   },
   "outputs": [
    {
     "data": {
      "image/png": "[encoded data removed]",
      "text/plain": [
       "<Figure size 1152x216 with 8 Axes>"
      ]
     },
     "metadata": {},
     "output_type": "display_data"
    },
    {
     "data": {
      "image/png": "[encoded data removed]",
      "text/plain": [
       "<Figure size 1152x216 with 8 Axes>"
      ]
     },
     "metadata": {},
     "output_type": "display_data"
    }
   ],
   "source": [
    "from secml.figure import CFigure\n",
    "\n",
    "# Let's define a convenience function to easily plot the MNIST dataset\n",
    "def show_dataset(ds, preds, labels, digs, n_display=8):\n",
    "    \n",
    "    fig = CFigure(width=n_display*2, height=3)\n",
    "    for idx in range(n_display):\n",
    "        fig.subplot(2, n_display, idx+1)\n",
    "        fig.sp.xticks([])\n",
    "        fig.sp.yticks([])\n",
    "        fig.sp.imshow(ds[idx, :].reshape((28, 28)), cmap='gray')\n",
    "        fig.sp.title(\"{} ({})\".format(digits[labels[idx].item()], digs[preds[idx].item()]),\n",
    "                     color=(\"green\" if labels[idx].item()==preds[idx].item() else \"red\"))\n",
    "    fig.show()\n",
    "\n",
    "show_dataset(attack_ds.X, clf.predict(attack_ds.X), attack_ds.Y, digits)\n",
    "show_dataset(eva_adv_ds.X, clf.predict(eva_adv_ds.X), eva_adv_ds.Y, digits)"
   ]
  },
  {
   "cell_type": "markdown",
   "metadata": {
    "pycharm": {
     "name": "#%% md\n"
    }
   },
   "source": [
    "## Poisoning attack with MNIST dataset\n",
    "\n",
    "For poisoning attacks the parameters are much simpler. We set the the bounds \n",
    " of the attack space and the number of adversarial points to generate, \n",
    " 50 in this example. Lastly, we chose the solver parameters for this \n",
    " specific optimization problem.\n",
    "\n",
    "*Please note that the attack using the MNIST dataset may take a while \n",
    " (up to a few minutes) depending on the machine the script is run on.*\n",
    " "
   ]
  },
  {
   "cell_type": "code",
   "execution_count": 5,
   "metadata": {
    "pycharm": {
     "is_executing": false,
     "name": "#%%\n"
    }
   },
   "outputs": [
    {
     "name": "stdout",
     "output_type": "stream",
     "text": [
      "Attack started...\n",
      "Attack complete!\n",
      "Original accuracy on test set: 96.80%\n",
      "Accuracy after attack on test set: 86.40%\n"
     ]
    },
    {
     "data": {
      "image/png": "[encoded data removed]",
      "text/plain": [
       "<Figure size 1152x216 with 8 Axes>"
      ]
     },
     "metadata": {},
     "output_type": "display_data"
    }
   ],
   "source": [
    "lb, ub = 0., 1.  # Bounds of the attack space. Can be set to `None` for unbounded\n",
    "n_poisoning_points = 20  # Number of poisoning points to generate\n",
    "\n",
    "# Should be chosen depending on the optimization problem\n",
    "solver_params = {\n",
    "    'eta': 1.,\n",
    "    'eta_min': 1.,\n",
    "    'eta_max': None,\n",
    "    'max_iter': 100,\n",
    "    'eps': 1e-6\n",
    "}\n",
    "\n",
    "from secml.adv.attacks import CAttackPoisoningSVM\n",
    "pois_attack = CAttackPoisoningSVM(classifier=clf,\n",
    "                                  training_data=tr,\n",
    "                                  surrogate_classifier=clf,\n",
    "                                  surrogate_data=tr,\n",
    "                                  val=val,\n",
    "                                  lb=lb, ub=ub,\n",
    "                                  solver_params=solver_params,\n",
    "                                  random_seed=random_state)\n",
    "pois_attack.n_points = n_poisoning_points\n",
    "\n",
    "# Run the poisoning attack\n",
    "print(\"Attack started...\")\n",
    "pois_y_pred, _, pois_points_ds, _ = pois_attack.run(ts.X, ts.Y)\n",
    "print(\"Attack complete!\")\n",
    "\n",
    "# Evaluate the accuracy of the original classifier\n",
    "acc = metric.performance_score(y_true=ts.Y, y_pred=clf.predict(ts.X))\n",
    "# Evaluate the accuracy after the poisoning attack\n",
    "pois_acc = metric.performance_score(y_true=ts.Y, y_pred=pois_y_pred)\n",
    "\n",
    "print(\"Original accuracy on test set: {:.2%}\".format(acc))\n",
    "print(\"Accuracy after attack on test set: {:.2%}\".format(pois_acc))\n",
    "\n",
    "# Training of the poisoned classifier for visualization purposes\n",
    "pois_clf = clf.deepcopy()\n",
    "pois_tr = tr.append(pois_points_ds)  # Join the training set with the poisoning points\n",
    "pois_clf.fit(pois_tr)\n",
    "\n",
    "show_dataset(pois_points_ds.X, pois_clf.predict(pois_points_ds.X), \n",
    "             pois_points_ds.Y, digits)"
   ]
  },
  {
   "cell_type": "markdown",
   "metadata": {},
   "source": [
    "We can see that the classifier trained on the MNIST dataset has been \n",
    " successfully poisoned. To increase the attack power, more poisoning points\n",
    " can be crafted, at the expense of a much slower optimization process.\n",
    " \n",
    "Let's note that the label of each adversarial example we show has been \n",
    " *flipped* by the attack with respect to the actual true label. Thus, the \n",
    " predicted label (parenthesis) by the poisoned classifier is displayed \n",
    " in green when *different* from the true label of the digit."
   ]
  }
 ],
 "metadata": {
  "kernelspec": {
   "display_name": "Python 3",
   "language": "python",
   "name": "python3"
  },
  "language_info": {
   "codemirror_mode": {
    "name": "ipython",
    "version": 3
   },
   "file_extension": ".py",
   "mimetype": "text/x-python",
   "name": "python",
   "nbconvert_exporter": "python",
   "pygments_lexer": "ipython3",
   "version": "3.5.2"
  },
  "pycharm": {
   "stem_cell": {
    "cell_type": "raw",
    "metadata": {
     "collapsed": false
    },
    "source": []
   }
  }
 },
 "nbformat": 4,
 "nbformat_minor": 1
}
