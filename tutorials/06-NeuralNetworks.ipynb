{
 "cells": [
  {
   "cell_type": "markdown",
   "metadata": {
    "collapsed": true,
    "pycharm": {
     "name": "#%% md\n"
    }
   },
   "source": [
    "# Creating neural networks with PyTorch backend\n",
    "\n",
    "In this tutorial we will show how to create a neural network\n",
    "using the PyTorch backend ([PyTorch tutorials]( \n",
    "(see more in [this tutorial](https://pytorch.org/tutorials/beginner/blitz/neural_networks_tutorial.html))).\n",
    "\n",
    "This tutorial shows 2 examples: \n",
    "* the first is a toy example with the Blobs dataset\n",
    "* the second is an example of classification of the \n",
    "MNIST dataset."
   ]
  },
  {
   "cell_type": "markdown",
   "source": [
    "## Classifying blobs\n",
    "\n",
    "First, we need to create a neural network. We simply \n",
    "use PyTorch `nn.Module` as regular PyTorch code."
   ],
   "metadata": {
    "collapsed": false,
    "pycharm": {
     "name": "#%% md\n"
    }
   }
  },
  {
   "cell_type": "code",
   "execution_count": 1,
   "outputs": [],
   "source": [
    "import torch\n",
    "from torch import nn\n",
    "\n",
    "class Net(nn.Module):\n",
    "    \"\"\"\n",
    "    Model with input size (-1, 5) for blobs dataset\n",
    "    with 5 features\n",
    "    \"\"\"\n",
    "    def __init__(self, n_features, n_classes):\n",
    "        \"\"\"Example network.\"\"\"\n",
    "        super(Net, self).__init__()\n",
    "        self.fc1 = nn.Linear(n_features, 5)\n",
    "        self.fc2 = nn.Linear(5, n_classes)\n",
    "\n",
    "    def forward(self, x):\n",
    "        x = torch.relu(self.fc1(x))\n",
    "        x = self.fc2(x)\n",
    "        return x"
   ],
   "metadata": {
    "collapsed": false,
    "pycharm": {
     "name": "#%% \n",
     "is_executing": false
    }
   }
  },
  {
   "cell_type": "markdown",
   "source": [
    "We will use a 5D dataset composed with 3 gaussians. We can use 4k samples for \n",
    "training and 1k for testing. We can divide the sets in batches so that they can \n",
    "be processed in small groups by the network. We use a batch size of 20."
   ],
   "metadata": {
    "collapsed": false,
    "pycharm": {
     "name": "#%% md\n"
    }
   }
  },
  {
   "cell_type": "code",
   "execution_count": 2,
   "outputs": [],
   "source": [
    "# experiment parameters\n",
    "n_classes = 3\n",
    "n_features = 2\n",
    "n_samples_tr = 4000  # number of training set samples\n",
    "n_samples_ts = 1000  # number of testing set samples\n",
    "batch_size = 20\n",
    "\n",
    "# dataset creation\n",
    "from secml.data.loader import CDLRandom\n",
    "dataset = CDLRandom(n_samples=n_samples_tr + n_samples_ts,\n",
    "                    n_classes=n_classes,\n",
    "                    n_features=n_features, n_redundant=0,\n",
    "                    n_clusters_per_class=1,\n",
    "                    class_sep=1, random_state=0).load()\n",
    "\n",
    "# Split in training and test\n",
    "from secml.data.splitter import CTrainTestSplit\n",
    "splitter = CTrainTestSplit(train_size=n_samples_tr, \n",
    "                           test_size=n_samples_ts,\n",
    "                           random_state=0)\n",
    "\n",
    "tr, ts = splitter.split(dataset)\n",
    "\n",
    "# Normalize the data\n",
    "from secml.ml.features.normalization import CNormalizerMinMax\n",
    "nmz = CNormalizerMinMax()\n",
    "tr.X = nmz.fit_transform(tr.X)\n",
    "ts.X = nmz.transform(ts.X)"
   ],
   "metadata": {
    "collapsed": false,
    "pycharm": {
     "name": "#%% \n",
     "is_executing": false
    }
   }
  },
  {
   "cell_type": "markdown",
   "source": [
    "Now we can create an instance of the PyTorch model and then wrap it in the \n",
    "specific class that will link it to our library functionalities."
   ],
   "metadata": {
    "collapsed": false,
    "pycharm": {
     "name": "#%% md\n"
    }
   }
  },
  {
   "cell_type": "code",
   "execution_count": 3,
   "outputs": [],
   "source": [
    "# torch model creation\n",
    "net = Net(n_features=n_features, n_classes=n_classes)\n",
    "\n",
    "from torch import optim\n",
    "criterion = nn.CrossEntropyLoss()\n",
    "optimizer = optim.SGD(net.parameters(),\n",
    "                      lr=0.1, momentum=0.9)\n",
    "\n",
    "# wrap torch model in CClassifierPyTorch class\n",
    "from secml.ml.classifiers.c_classifier_pytorch import CClassifierPyTorch\n",
    "clf = CClassifierPyTorch(torch_model=net,\n",
    "                         loss=criterion,\n",
    "                         optimizer=optimizer,\n",
    "                         input_shape=(n_features,))"
   ],
   "metadata": {
    "collapsed": false,
    "pycharm": {
     "name": "#%%\n",
     "is_executing": false
    }
   }
  },
  {
   "cell_type": "markdown",
   "source": [
    "We can simply use the loaded `CDataset` and pass it to the `fit` method. The \n",
    "wrapper will handle batch processing and train the network for the number of epochs \n",
    "specified in the wrapper constructor."
   ],
   "metadata": {
    "collapsed": false,
    "pycharm": {
     "name": "#%% md\n"
    }
   }
  },
  {
   "cell_type": "code",
   "execution_count": 4,
   "outputs": [
    {
     "name": "stdout",
     "text": [
      "[1,  2000] loss: 1.300\n",
      "[1,  4000] loss: 1.272\n",
      "[2,  2000] loss: 1.299\n",
      "[2,  4000] loss: 1.272\n",
      "[3,  2000] loss: 1.299\n",
      "[3,  4000] loss: 1.272\n",
      "[4,  2000] loss: 1.299\n",
      "[4,  4000] loss: 1.272\n",
      "[5,  2000] loss: 1.299\n",
      "[5,  4000] loss: 1.272\n",
      "[6,  2000] loss: 1.299\n",
      "[6,  4000] loss: 1.272\n",
      "[7,  2000] loss: 1.299\n",
      "[7,  4000] loss: 1.272\n",
      "[8,  2000] loss: 1.299\n",
      "[8,  4000] loss: 1.272\n",
      "[9,  2000] loss: 1.299\n",
      "[9,  4000] loss: 1.272\n",
      "[10,  2000] loss: 1.299\n",
      "[10,  4000] loss: 1.272\n"
     ],
     "output_type": "stream"
    },
    {
     "data": {
      "text/plain": "CClassifierPyTorch{'classes': CArray(3,)(dense: [0 1 2]), 'n_features': 2, 'preprocess': None, 'input_shape': (2,), 'loss': CrossEntropyLoss(), 'optimizer': SGD (\nParameter Group 0\n    dampening: 0\n    lr: 0.1\n    momentum: 0.9\n    nesterov: False\n    weight_decay: 0\n), 'softmax_outputs': False, 'epochs': 10, 'batch_size': 1}"
     },
     "metadata": {},
     "output_type": "execute_result",
     "execution_count": 4
    }
   ],
   "source": [
    "clf.fit(tr)"
   ],
   "metadata": {
    "collapsed": false,
    "pycharm": {
     "name": "#%%\n",
     "is_executing": false
    }
   }
  },
  {
   "cell_type": "markdown",
   "source": [
    "Using the model in \"predict\" mode is just as easy. We can use the method `predict` \n",
    "defined in our wrapper, and pass in the data. We can evaluate the accuracy with \n",
    "the `CMetric` defined in our library."
   ],
   "metadata": {
    "collapsed": false,
    "pycharm": {
     "name": "#%% md\n"
    }
   }
  },
  {
   "cell_type": "code",
   "execution_count": 5,
   "outputs": [
    {
     "name": "stdout",
     "text": [
      "Model Accuracy: 0.34\n"
     ],
     "output_type": "stream"
    }
   ],
   "source": [
    "label_torch = clf.predict(ts.X, return_decision_function=False)\n",
    "\n",
    "from secml.ml.peval.metrics import CMetric\n",
    "acc_torch = CMetric.create('accuracy').performance_score(ts.Y, label_torch)\n",
    "\n",
    "print(\"Model Accuracy: {}\".format(acc_torch))"
   ],
   "metadata": {
    "collapsed": false,
    "pycharm": {
     "name": "#%%\n",
     "is_executing": false
    }
   }
  },
  {
   "cell_type": "markdown",
   "source": [
    "# MNIST dataset\n",
    "\n",
    "Now we do the same thing with the MNIST dataset. We can use a convolutional \n",
    "neural network, but we need to take care of reshaping the input to the expected \n",
    "input size - in this case (-1, 1, 28, 28). We will see in the following how to \n",
    "use torchvision's `transforms` module for this.\n"
   ],
   "metadata": {
    "collapsed": false
   }
  },
  {
   "cell_type": "code",
   "execution_count": 6,
   "outputs": [],
   "source": [
    "class MNISTNet(nn.Module):\n",
    "    \"\"\"\n",
    "    Model with input size (-1, 28, 28) for MNIST dataset.\n",
    "    \"\"\"\n",
    "    def __init__(self):\n",
    "        super(MNISTNet, self).__init__()\n",
    "        self.conv1 = nn.Conv2d(1, 10, kernel_size=5)\n",
    "        self.conv2 = nn.Conv2d(10, 20, kernel_size=5)\n",
    "        self.conv2_drop = nn.Dropout2d()\n",
    "        self.fc1 = nn.Linear(320, 50)\n",
    "        self.fc2 = nn.Linear(50, 3)\n",
    "\n",
    "    def forward(self, x):\n",
    "        x = torch.relu(torch.max_pool2d(self.conv1(x), 2))\n",
    "        x = torch.relu(torch.max_pool2d(self.conv2_drop(self.conv2(x)), 2))\n",
    "        x = x.view(-1, 320)\n",
    "        x = torch.relu(self.fc1(x))\n",
    "        return self.fc2(x)\n",
    "    "
   ],
   "metadata": {
    "collapsed": false,
    "pycharm": {
     "name": "#%%\n",
     "is_executing": false
    }
   }
  },
  {
   "cell_type": "markdown",
   "source": [
    "Now we can load MNIST dataset. Here we should take care of the conversion from \n",
    "1D vector to images of shape (-1, 1, 28, 28). This is a required step, since \n",
    "the loader defined in our library is defined to load a ravel vector with shape (-1, 1, 784).\n",
    "\n",
    "We can use a `Lambda` module of the `transforms` package from `torchvision`. The lambda \n",
    "we define will simply reshape the tensors to the shape expected by our network."
   ],
   "metadata": {
    "collapsed": false,
    "pycharm": {
     "name": "#%% md\n",
     "is_executing": false
    }
   }
  },
  {
   "cell_type": "code",
   "execution_count": 7,
   "outputs": [],
   "source": [
    "n_samples_tr = 6000  # number of training set samples\n",
    "n_samples_ts = 1000  # number of testing set samples\n",
    "\n",
    "from secml.data.loader import CDataLoaderMNIST\n",
    "digits = (1, 5, 9)\n",
    "dataset = CDataLoaderMNIST().load('training', digits=digits)\n",
    "\n",
    "# Split in training and test\n",
    "splitter = CTrainTestSplit(train_size=n_samples_tr, \n",
    "                           test_size=n_samples_ts,\n",
    "                           random_state=0)\n",
    "tr, ts = splitter.split(dataset)\n",
    "\n",
    "# Normalize the data\n",
    "nmz = CNormalizerMinMax()\n",
    "tr.X /= 255\n",
    "ts.X /= 255"
   ],
   "metadata": {
    "collapsed": false,
    "pycharm": {
     "name": "#%% \n",
     "is_executing": false
    }
   }
  },
  {
   "cell_type": "markdown",
   "source": [
    "Now we can use again the `CClassifierPyTorch` wrapper for having the model \n",
    "accessible with our library."
   ],
   "metadata": {
    "collapsed": false,
    "pycharm": {
     "name": "#%% md\n"
    }
   }
  },
  {
   "cell_type": "code",
   "execution_count": 9,
   "outputs": [],
   "source": [
    "net = MNISTNet()\n",
    "criterion = nn.CrossEntropyLoss()\n",
    "optimizer = optim.SGD(net.parameters(),\n",
    "                      lr=0.001, momentum=0.9)\n",
    "\n",
    "clf = CClassifierPyTorch(torch_model=net,\n",
    "                         loss=criterion,\n",
    "                         optimizer=optimizer,\n",
    "                         epochs=20,\n",
    "                         batch_size=20,\n",
    "                         input_shape=(1, 28, 28))"
   ],
   "metadata": {
    "collapsed": false,
    "pycharm": {
     "name": "#%%\n",
     "is_executing": false
    }
   }
  },
  {
   "cell_type": "markdown",
   "source": [
    "We fit the model in the same way as before."
   ],
   "metadata": {
    "collapsed": false,
    "pycharm": {
     "name": "#%% md\n"
    }
   }
  },
  {
   "cell_type": "code",
   "execution_count": 10,
   "outputs": [
    {
     "data": {
      "text/plain": "CClassifierPyTorch{'classes': CArray(3,)(dense: [0 1 2]), 'n_features': 784, 'preprocess': None, 'input_shape': (1, 28, 28), 'loss': CrossEntropyLoss(), 'optimizer': SGD (\nParameter Group 0\n    dampening: 0\n    lr: 0.001\n    momentum: 0.9\n    nesterov: False\n    weight_decay: 0\n), 'softmax_outputs': False, 'epochs': 20, 'batch_size': 20}"
     },
     "metadata": {},
     "output_type": "execute_result",
     "execution_count": 10
    }
   ],
   "source": [
    "clf.fit(tr)\n"
   ],
   "metadata": {
    "collapsed": false,
    "pycharm": {
     "name": "#%%\n",
     "is_executing": false
    }
   }
  },
  {
   "cell_type": "markdown",
   "source": [
    "And now we can check how well we can classify the digits."
   ],
   "metadata": {
    "collapsed": false
   }
  },
  {
   "cell_type": "code",
   "execution_count": 12,
   "outputs": [
    {
     "name": "stdout",
     "text": [
      "Model Accuracy: 0.987\n"
     ],
     "output_type": "stream"
    }
   ],
   "source": [
    "label_torch = clf.predict(ts.X, return_decision_function=False)\n",
    "\n",
    "metric = CMetric.create('accuracy')\n",
    "acc_torch = metric.performance_score(ts.Y, label_torch)\n",
    "\n",
    "print(\"Model Accuracy: {}\".format(acc_torch))\n"
   ],
   "metadata": {
    "collapsed": false,
    "pycharm": {
     "name": "#%%\n",
     "is_executing": false
    }
   }
  },
  {
   "cell_type": "markdown",
   "source": [
    "## Attacking the neural network\n",
    "\n",
    "We can now create, as we did in notebook `05-MNIST_dataset.ipynb`, adversarial examples \n",
    "against the neural network we just trained. The code is similar to the other notebook, \n",
    "the only difference will be the classifier that we pass to the `CAttackEvasionPGDLS` \n",
    "object."
   ],
   "metadata": {
    "collapsed": false,
    "pycharm": {
     "name": "#%% md\n"
    }
   }
  },
  {
   "cell_type": "code",
   "execution_count": 13,
   "outputs": [
    {
     "name": "stdout",
     "text": [
      "Attack started...\n",
      "Attack complete!\n"
     ],
     "output_type": "stream"
    }
   ],
   "source": [
    "\n",
    "# For simplicity, let's attack a subset of the test set\n",
    "attack_ds = ts[:25, :]\n",
    "\n",
    "noise_type = 'l2'  # Type of perturbation 'l1' or 'l2'\n",
    "dmax = 3.  # Maximum perturbation\n",
    "lb, ub = 0., 1.  # Bounds of the attack space. Can be set to `None` for unbounded\n",
    "y_target = None  # None if `error-generic` or a class label for `error-specific`\n",
    "\n",
    "# Should be chosen depending on the optimization problem\n",
    "solver_params = {\n",
    "    'eta': 0.1, \n",
    "    'eta_min': 2.0, \n",
    "    'eta_max': None,\n",
    "    'max_iter': 100, \n",
    "    'eps': 1e-6\n",
    "}\n",
    "\n",
    "from secml.adv.attacks import CAttackEvasionPGDLS\n",
    "pgd_ls_attack = CAttackEvasionPGDLS(classifier=clf,\n",
    "                                    surrogate_classifier=clf,\n",
    "                                    surrogate_data=tr,\n",
    "                                    distance=noise_type, \n",
    "                                    dmax=dmax,\n",
    "                                    solver_params=solver_params,\n",
    "                                    y_target=y_target)\n",
    "\n",
    "print(\"Attack started...\")\n",
    "eva_y_pred, _, eva_adv_ds, _ = pgd_ls_attack.run(\n",
    "    attack_ds.X, attack_ds.Y, double_init=True)\n",
    "print(\"Attack complete!\")"
   ],
   "metadata": {
    "collapsed": false,
    "pycharm": {
     "name": "#%%\n",
     "is_executing": false
    }
   }
  },
  {
   "cell_type": "code",
   "execution_count": 14,
   "outputs": [
    {
     "name": "stdout",
     "text": [
      "Accuracy on reduced test set before attack: 68.00%\nAccuracy on reduced test set after attack: 16.00%\n"
     ],
     "output_type": "stream"
    }
   ],
   "source": [
    "acc = metric.performance_score(\n",
    "    y_true=attack_ds.Y, y_pred=clf.predict(attack_ds.X))\n",
    "acc_attack = metric.performance_score(\n",
    "    y_true=attack_ds.Y, y_pred=eva_y_pred)\n",
    "\n",
    "print(\"Accuracy on reduced test set before attack: {:.2%}\".format(acc))\n",
    "print(\"Accuracy on reduced test set after attack: {:.2%}\".format(acc_attack))"
   ],
   "metadata": {
    "collapsed": false,
    "pycharm": {
     "name": "#%%\n",
     "is_executing": false
    }
   }
  },
  {
   "cell_type": "markdown",
   "source": [
    "Finally, we can display the adversarial digit along with its label."
   ],
   "metadata": {
    "collapsed": false,
    "pycharm": {
     "name": "#%% md\n"
    }
   }
  },
  {
   "cell_type": "code",
   "execution_count": 17,
   "outputs": [
    {
     "data": {
      "text/plain": "<Figure size 144x216 with 1 Axes>",
      "image/png": "[encoded data removed]"
     },
     "metadata": {},
     "output_type": "display_data"
    },
    {
     "data": {
      "text/plain": "<Figure size 144x216 with 1 Axes>",
      "image/png": "[encoded data removed]"
     },
     "metadata": {},
     "output_type": "display_data"
    }
   ],
   "source": [
    "from secml.figure import CFigure\n",
    "# Let's define a convenience function to easily plot the MNIST dataset\n",
    "def show_digits(samples, preds, labels, digs, n_display=8):\n",
    "    samples = samples.atleast_2d()\n",
    "    n_display = min(n_display, samples.shape[0])\n",
    "    fig = CFigure(width=n_display*2, height=3)\n",
    "    for idx in range(n_display):\n",
    "        fig.subplot(2, n_display, idx+1)\n",
    "        fig.sp.xticks([])\n",
    "        fig.sp.yticks([])\n",
    "        fig.sp.imshow(samples[idx, :].reshape((28, 28)), cmap='gray')\n",
    "        fig.sp.title(\"{} ({})\".format(digits[labels[idx].item()], digs[preds[idx].item()]),\n",
    "                     color=(\"green\" if labels[idx].item()==preds[idx].item() else \"red\"))\n",
    "    fig.show()\n",
    "\n",
    "show_digits(attack_ds.X[0, :], clf.predict(attack_ds.X[0, :]), attack_ds.Y[0, :], digits)\n",
    "show_digits(eva_adv_ds.X[0, :], clf.predict(eva_adv_ds.X[0, :]), eva_adv_ds.Y[0, :], digits)"
   ],
   "metadata": {
    "collapsed": false,
    "pycharm": {
     "name": "#%%\n",
     "is_executing": false
    }
   }
  }
 ],
 "metadata": {
  "language_info": {
   "codemirror_mode": {
    "name": "ipython",
    "version": 2
   },
   "file_extension": ".py",
   "mimetype": "text/x-python",
   "name": "python",
   "nbconvert_exporter": "python",
   "pygments_lexer": "ipython2",
   "version": "2.7.6"
  },
  "kernelspec": {
   "name": "python3",
   "language": "python",
   "display_name": "Python 3"
  },
  "pycharm": {
   "stem_cell": {
    "cell_type": "raw",
    "source": [],
    "metadata": {
     "collapsed": false
    }
   }
  }
 },
 "nbformat": 4,
 "nbformat_minor": 0
}