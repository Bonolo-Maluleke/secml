{
 "cells": [
  {
   "cell_type": "markdown",
   "metadata": {
    "collapsed": true,
    "pycharm": {
     "name": "#%% md\n"
    }
   },
   "source": [
    "# Android Malware Detection\n",
    "\n",
    "Machine Learning (ML) systems are nowadays being extensively used as the core\n",
    "components of many systems, including **malware detectors**. Despite the\n",
    "impressive performances reported by such systems on benchmark datasets,\n",
    "the problem of detection in the wild is still far from being solved. In fact,\n",
    "many of these algorithms were not designed to cope with *Adversarial Examples*.\n",
    "\n",
    "In this tutorial, we show how to use SecML to build, explain, attack and\n",
    "evaluate the security of a malware detector for **Android applications**,\n",
    "based on a linear Support Vector Machine (SVM), a common choice for this task\n",
    "given its performance and the interpretability of its decisions."
   ]
  },
  {
   "cell_type": "markdown",
   "metadata": {
    "pycharm": {
     "name": "#%% md\n"
    }
   },
   "source": [
    "We start by loading a toy dataset of Android applications, named `DrebinRed`,\n",
    "consisting of 12,000 benign and 550 malicious samples extracted from the\n",
    "`Drebin` dataset:\n",
    "\n",
    "  > [[arp2014drebin]](https://www.sec.cs.tu-bs.de/pubs/2014-ndss.pdf)\n",
    "  > Arp, Daniel, et al. \"Drebin: Effective and explainable detection of\n",
    "  > android malware in your pocket.\" NDSS. Vol. 14. 2014.\n",
    "\n",
    "See https://www.sec.cs.tu-bs.de/~danarp/drebin/ to obtain the full version."
   ]
  },
  {
   "cell_type": "code",
   "execution_count": 1,
   "metadata": {
    "pycharm": {
     "name": "#%%\n"
    }
   },
   "outputs": [],
   "source": [
    "# NBVAL_IGNORE_OUTPUT\n",
    "import re\n",
    "import secml\n",
    "from secml import settings\n",
    "from secml.utils import fm\n",
    "from secml.utils.download_utils import dl_file_gitlab\n",
    "\n",
    "repo_url = 'https://gitlab.com/secml/secml-zoo'\n",
    "file_name = 'drebin-reduced.tar.gz'\n",
    "file_path = 'datasets/DrebinRed/' + file_name\n",
    "output_dir = fm.join(settings.SECML_DS_DIR, 'drebin-red')\n",
    "md5_digest = 'ecf87ddedf614dd53b89285c29cf1caf'\n",
    "\n",
    "ds_path = fm.join(output_dir, file_name)\n",
    "\n",
    "# The following tries to get the correct dataset for the current library version\n",
    "if not fm.file_exist(ds_path):\n",
    "    try:\n",
    "        # Try downloading from the branch corresponding to current version\n",
    "        min_version = re.search(r'^\\d+.\\d+', secml.__version__).group(0)\n",
    "        dl_file_gitlab(repo_url, file_path, output_dir,\n",
    "                       branch='v' + min_version, md5_digest=md5_digest)\n",
    "\n",
    "    except Exception as e:  # Try looking into 'master' branch...\n",
    "        dl_file_gitlab(repo_url, file_path, output_dir, md5_digest=md5_digest)"
   ]
  },
  {
   "cell_type": "code",
   "execution_count": 2,
   "metadata": {
    "pycharm": {
     "name": "#%%\n"
    }
   },
   "outputs": [
    {
     "name": "stdout",
     "output_type": "stream",
     "text": [
      "Num. samples:  12550\n",
      "Num. benign samples:  12000\n",
      "Num. malicious samples:  550\n",
      "Num. features:  1227080\n"
     ]
    }
   ],
   "source": [
    "from secml.utils import pickle_utils\n",
    "\n",
    "ds = pickle_utils.load(ds_path)\n",
    "\n",
    "print(\"Num. samples: \", ds.num_samples)\n",
    "\n",
    "n_neg = sum(ds.Y == 0)\n",
    "n_pos = sum(ds.Y == 1)\n",
    "\n",
    "print(\"Num. benign samples: \", n_neg)\n",
    "print(\"Num. malicious samples: \", n_pos)\n",
    "\n",
    "print(\"Num. features: \", ds.num_features)"
   ]
  },
  {
   "cell_type": "markdown",
   "metadata": {},
   "source": [
    "## Training and testing the detector\n",
    "\n",
    "We train the Support Vector Machine classifier on half the dataset, while\n",
    "using the rest for testing. The performance on the task of recognizing benign\n",
    "and malicious applications will be reported by means of the **Detection Rate @\n",
    "2% False Positive Rate**, the **F1 score** and by plotting the **Receiver\n",
    "Operating Characteristic (ROC) curve**."
   ]
  },
  {
   "cell_type": "code",
   "execution_count": 3,
   "metadata": {
    "pycharm": {
     "name": "#%%\n"
    }
   },
   "outputs": [
    {
     "name": "stdout",
     "output_type": "stream",
     "text": [
      "Training started...\n",
      "Training completed!\n"
     ]
    }
   ],
   "source": [
    "from secml.data.splitter import CTrainTestSplit\n",
    "\n",
    "tr, ts = CTrainTestSplit(6000, random_state=0).split(ds)\n",
    "\n",
    "from secml.ml.classifiers import CClassifierSVM\n",
    "\n",
    "clf = CClassifierSVM(C=0.1)\n",
    "\n",
    "print(\"Training started...\")\n",
    "clf.fit(tr.X, tr.Y)\n",
    "print(\"Training completed!\")"
   ]
  },
  {
   "cell_type": "code",
   "execution_count": 4,
   "metadata": {
    "pycharm": {
     "name": "#%%\n"
    }
   },
   "outputs": [
    {
     "name": "stdout",
     "output_type": "stream",
     "text": [
      "Detection rate @ 2% FPR: 95.04%\n",
      "F1 score: 89.09%\n"
     ]
    }
   ],
   "source": [
    "# Classification of test set and computation of performance metrics\n",
    "y_pred, score_pred = clf.predict(ts.X, return_decision_function=True)\n",
    "\n",
    "from secml.ml.peval.metrics import CMetricTPRatFPR, CMetricF1, CRoc\n",
    "\n",
    "fpr_th = 0.02  # 2% False Positive Rate\n",
    "\n",
    "dr = CMetricTPRatFPR(fpr=fpr_th).performance_score(y_true=ts.Y, score=score_pred[:, 1].ravel())\n",
    "print(\"Detection rate @ 2% FPR: {:.2%}\".format(dr))\n",
    "\n",
    "f1 = CMetricF1().performance_score(y_true=ts.Y, y_pred=y_pred)\n",
    "print(\"F1 score: {:.2%}\".format(f1))"
   ]
  },
  {
   "cell_type": "code",
   "execution_count": 5,
   "metadata": {
    "pycharm": {
     "name": "#%%\n"
    }
   },
   "outputs": [
    {
     "data": {
      "image/png": "[encoded data removed]",
      "text/plain": [
       "<Figure size 432x288 with 1 Axes>"
      ]
     },
     "metadata": {
      "needs_background": "light"
     },
     "output_type": "display_data"
    }
   ],
   "source": [
    "fpr, tpr, _ = CRoc().compute(y_true=ts.Y, score=score_pred[:, 1].ravel())\n",
    "\n",
    "from secml.figure import CFigure\n",
    "# Only required for visualization in notebooks\n",
    "%matplotlib inline\n",
    "\n",
    "fig = CFigure(height=4, width=6)\n",
    "fig.sp.plot_roc(fpr, tpr)\n",
    "fig.sp._sp.axvline(x=2,  c='k', linestyle='--', zorder=-1)\n",
    "fig.sp.xlim(0.5, 20)\n",
    "fig.sp.ylim(90, 98)\n",
    "fig.sp.yticks([90, 92, 94, 96, 98])\n",
    "fig.sp.yticklabels([90, 92, 94, 96, 98])\n",
    "fig.sp.ylabel(r'Detection Rate $(\\%)$')"
   ]
  },
  {
   "cell_type": "markdown",
   "metadata": {},
   "source": [
    "## Explaining the decisions\n",
    "\n",
    "In this section of the tutorial, we compute the **post-hoc explanations**\n",
    "for the trained Android malware detector by analyzing the trained model\n",
    "to understand which components of the applications are more relevant during\n",
    "the decision (classification) phase.\n",
    "\n",
    "We use the **Gradient * Input** gradient-based explanation method, which is\n",
    "implemented by the `CExplainerGradientInput` class. Our algorithm is\n",
    "optimized to run on sparse data, which makes it suitable to be used in this\n",
    "application example.\n",
    "\n",
    "For each sample, one benign and one malicious, we compute the explanations\n",
    "with respect to the positive (malicious) class and list the top-10 influential\n",
    "features, along with the corresponding relevance (%).\n",
    "\n",
    "For further reference see:\n",
    "\n",
    "  > [[melis2018explaining]](https://arxiv.org/abs/1803.03544)\n",
    "  > M. Melis, D. Maiorca, B. Biggio, G. Giacinto and F. Roli,\n",
    "  > \"Explaining Black-box Android Malware Detection,\" 2018 26th European\n",
    "  > Signal Processing Conference (EUSIPCO), Rome, 2018, pp. 524-528.\n",
    "\n",
    "See also: [Explaining Machine Learning](10-Explanation.ipynb)."
   ]
  },
  {
   "cell_type": "code",
   "execution_count": 6,
   "metadata": {
    "pycharm": {
     "name": "#%%\n"
    }
   },
   "outputs": [
    {
     "name": "stdout",
     "output_type": "stream",
     "text": [
      "Computing explanations using 'CExplainerGradientInput'\n"
     ]
    }
   ],
   "source": [
    "from secml.explanation import CExplainerGradientInput\n",
    "\n",
    "expl = CExplainerGradientInput(clf)\n",
    "\n",
    "print(\"Computing explanations using '{:}'\".format(expl.__class__.__name__))"
   ]
  },
  {
   "cell_type": "code",
   "execution_count": 7,
   "metadata": {
    "pycharm": {
     "name": "#%%\n"
    }
   },
   "outputs": [
    {
     "name": "stdout",
     "output_type": "stream",
     "text": [
      "Explanations for sample 137 (true class: 0)\n",
      " -8.30\treq_permissions::android.permission.CALL_PHONE\n",
      " -6.59\tsuspicious_calls::android/net/Uri;->toString\n",
      "  5.60\treq_permissions::android.permission.INTERNET\n",
      " -5.39\tused_permissions::ACCESS_NETWORK_STATE\n",
      " -5.08\tapi_calls::android/media/MediaPlayer;->start\n",
      " -4.24\tused_permissions::VIBRATE\n",
      " -3.65\tintent_filters::android.intent.category.LAUNCHER\n",
      " -3.56\treq_permissions::android.permission.ACCESS_FINE_LOCATION\n",
      " -3.43\tused_permissions::ACCESS_FINE_LOCATION\n",
      " -2.63\tapi_calls::android/location/LocationManager;->getLastKnownLocation\n"
     ]
    }
   ],
   "source": [
    "# Explanations for a benign sample\n",
    "i = 137\n",
    "x, y = ts[i, :].X, ts[i, :].Y\n",
    "\n",
    "print(\"Explanations for sample {:} (true class: {:})\".format(i, y.item()))\n",
    "\n",
    "attr = expl.explain(x, y=1)\n",
    "attr = attr / attr.norm(order=1)  # To display values in 0-100\n",
    "\n",
    "attr_argsort = abs(attr).argsort().ravel()[::-1]\n",
    "\n",
    "n_plot = 10\n",
    "\n",
    "for i in attr_argsort[:10]:\n",
    "    print(\"{:6.2f}\\t{:}\".format(attr[i].item() * 100, ds.header.feat_desc[i]))"
   ]
  },
  {
   "cell_type": "code",
   "execution_count": 8,
   "metadata": {
    "pycharm": {
     "name": "#%%\n"
    }
   },
   "outputs": [
    {
     "name": "stdout",
     "output_type": "stream",
     "text": [
      "Explanations for sample 138 (true class: 1)\n",
      " 15.18\tsuspicious_calls::android/telephony/TelephonyManager;->getNetworkOperator\n",
      " 12.55\treq_permissions::android.permission.SEND_SMS\n",
      "  8.69\treq_permissions::android.permission.READ_SMS\n",
      "  5.83\treq_permissions::android.permission.INTERNET\n",
      "  5.58\tintent_filters::android.intent.action.BOOT_COMPLETED\n",
      " -4.41\tused_permissions::VIBRATE\n",
      "  3.96\tintent_filters::android.intent.category.HOME\n",
      " -3.80\tintent_filters::android.intent.category.LAUNCHER\n",
      "  3.66\treceivers::com.google.android.c2dm.C2DMBroadcastReceiver\n",
      "  3.39\treq_permissions::android.permission.READ_PHONE_STATE\n"
     ]
    }
   ],
   "source": [
    "# Explanations for a malware\n",
    "i = 138\n",
    "x, y = ts[i, :].X, ts[i, :].Y\n",
    "\n",
    "print(\"Explanations for sample {:} (true class: {:})\".format(i, y.item()))\n",
    "\n",
    "attr = expl.explain(x, y=1)\n",
    "attr = attr / attr.norm(order=1)  # To display values in 0-100\n",
    "\n",
    "attr_argsort = abs(attr).argsort().ravel()[::-1]\n",
    "\n",
    "n_plot = 10\n",
    "\n",
    "for i in attr_argsort[:10]:\n",
    "    print(\"{:6.2f}\\t{:}\".format(attr[i].item() * 100, ds.header.feat_desc[i]))"
   ]
  },
  {
   "cell_type": "markdown",
   "metadata": {
    "pycharm": {
     "name": "#%% md\n"
    }
   },
   "source": [
    "Looking at the first sample, a benign application, we can observe how\n",
    "*the majority of the features have a negative relevance* towards the decision,\n",
    "meaning that, for this classifier, are an indication of a *benign behavior*.\n",
    "\n",
    "Regarding the second sample, a malicious application, we can observe the\n",
    "opposite, as *the majority of the features have a positive relevance* value,\n",
    "meaning that, for this classifier, are an indication of a *malicious behavior*.\n",
    "\n",
    "We also observe that more than ~50% of the relevance is assigned to only\n",
    "10 features in both cases. This highlights a *known behavior* of these\n",
    "classifiers, which tend to assign most of the weight to a small set\n",
    "of features, making them vulnerable to adversarial evasion attacks.\n",
    "\n",
    "For further reference see:\n",
    "\n",
    "  > [[demontis2017-tdsc]](https://arxiv.org/abs/1704.08996)\n",
    "  > Demontis, Ambra, et al. \"Yes, machine learning can be more secure!\n",
    "  > a case study on android malware detection.\" IEEE Transactions on\n",
    "  > Dependable and Secure Computing (2017).\n"
   ]
  },
  {
   "cell_type": "markdown",
   "metadata": {},
   "source": [
    "## Crafting Adversarial Examples\n",
    "\n",
    "We now set up a **gradient-based maximum-confidence evasion attack** to create\n",
    "adversarial examples against the SVM classifier on which the Android\n",
    "malware detector is based on.\n",
    "\n",
    "Firstly, we choose the solver parameters. As we are working with **boolean\n",
    "features** (each can take either 0 or 1 value), we use a line search grid step\n",
    "`eta` of 1. Then, we choose `l1` as the distance, in order to perform a\n",
    "**L1-order sparse attack**, were *only one feature* is changed (from 0 to 1 or\n",
    "vice-versa) at each iteration. Finally, as we only want malicious samples\n",
    "to be classified as benign, we set `y_target = 0` to perform a targeted attack.\n",
    "\n",
    "The lower and the upper bound constraints are critical in this application.\n",
    "To create malware able to fool a classifier, an attacker may, in theory,\n",
    "both *adding and removing features* from the original applications. However,\n",
    "in practice, **feature removal** is a non-trivial operation that can easily\n",
    "compromise the malicious functionalities of the application and, generally\n",
    "speaking, only be performed for not-`manifest` components.\n",
    "**Feature addition** is a safer operation, especially when the injected\n",
    "features belong to the manifest; for example, adding permissions does not\n",
    "influence any existing application functionality.\n",
    "\n",
    "Therefore, in this example, to only alow feature addition we set `lb = 'x0'`\n",
    "and `ub = 1`. To also allow feature removal, one can set `lb = 0`.\n",
    "\n",
    "See also: [Evasion Attacks against Machine Learning](03-Evasion.ipynb)."
   ]
  },
  {
   "cell_type": "code",
   "execution_count": 9,
   "metadata": {
    "pycharm": {
     "name": "#%%\n"
    }
   },
   "outputs": [],
   "source": [
    "# Attack parameters\n",
    "params = {\n",
    "    \"classifier\": clf,\n",
    "    \"distance\": 'l1',\n",
    "    \"double_init\": False,\n",
    "    \"lb\": 'x0',\n",
    "    \"ub\": 1,\n",
    "    \"attack_classes\": 'all',\n",
    "    \"y_target\": 0,\n",
    "    \"solver_params\": {'eta': 1, 'eta_min': 1, 'eta_max': None, 'eps': 1e-4}\n",
    "}\n",
    "\n",
    "from secml.adv.attacks.evasion import CAttackEvasionPGDLS\n",
    "\n",
    "evasion = CAttackEvasionPGDLS(**params)"
   ]
  },
  {
   "cell_type": "markdown",
   "metadata": {
    "pycharm": {
     "name": "#%% md\n"
    }
   },
   "source": [
    "## Security Evaluation\n",
    "\n",
    "To evaluate the robustness of the Android malware detector against increasing\n",
    "number of modified (added) features, SecML provides a way to easily produce a\n",
    "**Security Evaluation Curve**, by means of the `CSecEval` class.\n",
    "\n",
    "The `CSecEval` instance will run the evasion attack on the classifier\n",
    "using increasing values of the L1-order perturbation `eps`.\n",
    "\n",
    "This process should last **around 60 seconds**, despite working on over\n",
    "*1 million features*, using the `CAttackEvasionPGDLS` attack, as it is\n",
    "optimized to run on sparse data."
   ]
  },
  {
   "cell_type": "code",
   "execution_count": 10,
   "metadata": {
    "pycharm": {
     "is_executing": true,
     "name": "#%%\n"
    }
   },
   "outputs": [
    {
     "name": "stdout",
     "output_type": "stream",
     "text": [
      "Running security evaluation...\n",
      "Security evaluation completed!\n"
     ]
    }
   ],
   "source": [
    "n_mal = 10\n",
    "\n",
    "# Attack DS\n",
    "mal_idx = ts.Y.find(ts.Y == 1)[:n_mal]\n",
    "adv_ds = ts[mal_idx, :]\n",
    "\n",
    "# Security evaluation parameters\n",
    "param_name = 'dmax'  # This is the `eps` parameter\n",
    "dmax_start = 0\n",
    "dmax = 28\n",
    "dmax_step = 4\n",
    "\n",
    "from secml.array import CArray\n",
    "\n",
    "param_values = CArray.arange(\n",
    "    start=dmax_start, step=dmax_step, stop=dmax + dmax_step)\n",
    "\n",
    "from secml.adv.seceval import CSecEval\n",
    "\n",
    "sec_eval = CSecEval(\n",
    "    attack=evasion,\n",
    "    param_name=param_name,\n",
    "    param_values=param_values)\n",
    "\n",
    "print(\"Running security evaluation...\")\n",
    "sec_eval.run_sec_eval(adv_ds)\n",
    "print(\"Security evaluation completed!\")"
   ]
  },
  {
   "cell_type": "code",
   "execution_count": 11,
   "metadata": {
    "pycharm": {
     "is_executing": true,
     "name": "#%%\n"
    }
   },
   "outputs": [
    {
     "data": {
      "image/png": "[encoded data removed]",
      "text/plain": [
       "<Figure size 360x360 with 1 Axes>"
      ]
     },
     "metadata": {
      "needs_background": "light"
     },
     "output_type": "display_data"
    }
   ],
   "source": [
    "from secml.figure import CFigure\n",
    "fig = CFigure(height=5, width=5)\n",
    "\n",
    "from secml.ml.peval.metrics import CMetricTHatFPR, CMetricTPRatTH\n",
    "\n",
    "# Get the ROC threshold at which Detection Rate should be computed\n",
    "th = CMetricTHatFPR(fpr=fpr_th).performance_score(y_true=ts.Y, score=score_pred[:, 1].ravel())\n",
    "\n",
    "# Convenience function for plotting the Security Evaluation Curve\n",
    "fig.sp.plot_sec_eval(sec_eval.sec_eval_data, metric=CMetricTPRatTH(th=th),\n",
    "                     percentage=True, label='SVM', color='green', marker='o')\n",
    "fig.sp.ylabel(r'Detection Rate $(\\%)$')\n",
    "fig.sp.xlabel(r\"$\\varepsilon$\")"
   ]
  },
  {
   "cell_type": "markdown",
   "metadata": {
    "pycharm": {
     "name": "#%% md\n"
    }
   },
   "source": [
    "We can see how this malware detector based on the SVM classifier is vulnerable\n",
    "to adversarial attacks and *after changing less than 10 features* half of the\n",
    "malicious samples are incorrectly classified as benign applications.\n",
    "This known vulnerability has also been [highlighted](#Explaining-the-decisions)\n",
    "when we listed the top influential features and observed that *most of the\n",
    "relevance is given to a very limited set of features*."
   ]
  }
 ],
 "metadata": {
  "kernelspec": {
   "display_name": "Python 3",
   "language": "python",
   "name": "python3"
  },
  "language_info": {
   "codemirror_mode": {
    "name": "ipython",
    "version": 3
   },
   "file_extension": ".py",
   "mimetype": "text/x-python",
   "name": "python",
   "nbconvert_exporter": "python",
   "pygments_lexer": "ipython3",
   "version": "3.5.2"
  }
 },
 "nbformat": 4,
 "nbformat_minor": 1
}