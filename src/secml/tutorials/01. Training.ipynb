{
 "cells": [
  {
   "cell_type": "markdown",
   "metadata": {
    "collapsed": true,
    "pycharm": {
     "name": "#%% md\n"
    }
   },
   "source": [
    "# Training and visualization"
   ]
  },
  {
   "cell_type": "code",
   "execution_count": 93,
   "outputs": [],
   "source": [
    "from secml.array import CArray\n",
    "from secml.data.loader import CDLRandom\n",
    "from secml.data.splitter import CDataSplitter\n",
    "from secml.figure import CFigure\n",
    "from secml.ml.classifiers import CClassifierSVM\n",
    "from secml.ml.classifiers.multiclass import CClassifierMulticlassOVA\n",
    "from secml.ml.features import CNormalizer, CNormalizerMinMax\n",
    "from secml.ml.kernel import CKernelRBF, CKernel\n",
    "from secml.ml.peval import CPerfEvaluatorXVal\n",
    "from secml.ml.peval.metrics import CMetric"
   ],
   "metadata": {
    "collapsed": false,
    "pycharm": {
     "name": "#%% \n",
     "is_executing": false
    }
   }
  },
  {
   "cell_type": "code",
   "execution_count": 102,
   "outputs": [],
   "source": [
    "random_state = 2134\n",
    "n_classes = 3\n",
    "n_features = 2\n",
    "n_tr = 1000\n",
    "n_ts = 200\n",
    "lb = 0.0\n",
    "ub = 1.0\n",
    "\n",
    "dataset = CDLRandom(n_classes=n_classes, n_features=n_features, n_informative=n_features, n_redundant=0,\n",
    "                    n_samples=n_tr+n_ts,\n",
    "                    n_clusters_per_class=1, class_sep=2,\n",
    "                    random_state=random_state).load()\n",
    "\n",
    "idx = CArray.arange(0, dataset.num_samples)\n",
    "\n",
    "idx.shuffle()\n",
    "tr = dataset[n_tr:, :]\n",
    "ts = dataset[:n_ts, :]\n",
    "\n",
    "# Normalize the data\n",
    "nmz = CNormalizerMinMax()\n",
    "tr.X = nmz.fit_transform(tr.X, tr.Y)\n",
    "ts.X = nmz.transform(ts.X)"
   ],
   "metadata": {
    "collapsed": false,
    "pycharm": {
     "name": "#%%\n",
     "is_executing": false
    }
   }
  },
  {
   "cell_type": "code",
   "execution_count": 103,
   "outputs": [
    {
     "data": {
      "text/plain": "<Figure size 288x288 with 1 Axes>",
      "image/png": "[encoded data removed]"
     },
     "metadata": {
      "needs_background": "light"
     },
     "output_type": "display_data"
    }
   ],
   "source": [
    "figure = CFigure(width=4, height=4)\n",
    "colors = list(\"brgyk\")\n",
    "for c in range(n_classes):\n",
    "    figure.sp.scatter(ts.X[ts.Y==c, 0], ts.X[ts.Y==c, 1], c=colors[c])\n",
    "figure.show()"
   ],
   "metadata": {
    "collapsed": false,
    "pycharm": {
     "name": "#%%\n",
     "is_executing": false
    }
   }
  },
  {
   "cell_type": "code",
   "execution_count": 108,
   "outputs": [],
   "source": [
    "kernel = CKernel.create('rbf')\n",
    "multiclass = CClassifierMulticlassOVA(\n",
    "    CClassifierSVM, C=1, kernel=kernel)\n",
    "\n",
    "xval_params = {'C': [1, 10, 100], 'kernel.gamma': [0.1, 1]}"
   ],
   "metadata": {
    "collapsed": false,
    "pycharm": {
     "name": "#%%\n",
     "is_executing": false
    }
   }
  },
  {
   "cell_type": "code",
   "execution_count": 109,
   "outputs": [
    {
     "name": "stdout",
     "text": [
      "{'C': (1, 10, 1), 'kernel.gamma': (0.1, 1, 1)}\n0.9699231117141566\n"
     ],
     "output_type": "stream"
    }
   ],
   "source": [
    "xval_splitter = CDataSplitter.create(\n",
    "            'kfold', num_folds=3, random_state=50000)\n",
    "best_params = multiclass.estimate_parameters(\n",
    "            tr, xval_params, xval_splitter, 'accuracy',\n",
    "            perf_evaluator='xval-multiclass', n_jobs=1)\n",
    "\n",
    "print(best_params)\n",
    "\n",
    "# set best parameters and fit\n",
    "multiclass.set_params(best_params)\n",
    "multiclass.fit(tr)\n",
    "\n",
    "perf_eval = CPerfEvaluatorXVal(\n",
    "        xval_splitter, CMetric.create('accuracy'))\n",
    "print(perf_eval.compute_performance(multiclass, ts))"
   ],
   "metadata": {
    "collapsed": false,
    "pycharm": {
     "name": "#%%\n",
     "is_executing": false
    }
   }
  },
  {
   "cell_type": "code",
   "execution_count": null,
   "outputs": [],
   "source": [
    "# plot decision function"
   ],
   "metadata": {
    "collapsed": false,
    "pycharm": {
     "name": "#%%\n"
    }
   }
  }
 ],
 "metadata": {
  "language_info": {
   "codemirror_mode": {
    "name": "ipython",
    "version": 2
   },
   "file_extension": ".py",
   "mimetype": "text/x-python",
   "name": "python",
   "nbconvert_exporter": "python",
   "pygments_lexer": "ipython2",
   "version": "2.7.6"
  },
  "kernelspec": {
   "name": "python3",
   "language": "python",
   "display_name": "Python 3"
  },
  "pycharm": {
   "stem_cell": {
    "cell_type": "raw",
    "source": [],
    "metadata": {
     "collapsed": false
    }
   }
  }
 },
 "nbformat": 4,
 "nbformat_minor": 0
}